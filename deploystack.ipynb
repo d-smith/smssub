{
 "cells": [
  {
   "cell_type": "code",
   "execution_count": null,
   "metadata": {
    "collapsed": true
   },
   "outputs": [],
   "source": [
    "stack_prefix = 's1-'"
   ]
  },
  {
   "cell_type": "code",
   "execution_count": null,
   "metadata": {
    "collapsed": false
   },
   "outputs": [],
   "source": [
    "cf_bucket = 'ds-deploy-us-east-1'\n",
    "template_name = 'smssub-deploy.yml'\n",
    "smssub_stack = stack_prefix + 'smssub'\n",
    "smssub_zip = 'smssub-deployment.zip'"
   ]
  },
  {
   "cell_type": "code",
   "execution_count": null,
   "metadata": {
    "collapsed": false
   },
   "outputs": [],
   "source": [
    "%%bash -s \"$template_name\" \"$smssub_zip\" \"$cf_bucket\"\n",
    "aws s3 cp ./$1 s3://$3\n",
    "aws s3 cp ./$2 s3://$3"
   ]
  },
  {
   "cell_type": "code",
   "execution_count": null,
   "metadata": {
    "collapsed": true
   },
   "outputs": [],
   "source": [
    "import boto3\n",
    "\n",
    "client = boto3.client('cloudformation')"
   ]
  },
  {
   "cell_type": "code",
   "execution_count": null,
   "metadata": {
    "collapsed": true
   },
   "outputs": [],
   "source": [
    "def form_s3_url_prefix(region):\n",
    "    prefix = ''\n",
    "    if region == 'us-east-1':\n",
    "        prefix = 'https://s3.amazonaws.com'\n",
    "    else:\n",
    "        prefix = 'https://s3-' + region + '.amazonaws.com'\n",
    "    return prefix"
   ]
  },
  {
   "cell_type": "code",
   "execution_count": null,
   "metadata": {
    "collapsed": false
   },
   "outputs": [],
   "source": [
    "import os\n",
    "region = os.environ['AWS_DEFAULT_REGION']\n",
    "bucketRoot = form_s3_url_prefix(region) + '/' + cf_bucket\n",
    "print bucketRoot"
   ]
  },
  {
   "cell_type": "code",
   "execution_count": null,
   "metadata": {
    "collapsed": false
   },
   "outputs": [],
   "source": [
    "response = client.create_stack(\n",
    "    StackName=smssub_stack,\n",
    "    TemplateURL=bucketRoot + '/' + template_name,\n",
    "    Parameters=[\n",
    "        {\n",
    "            'ParameterKey': 'CodeBucketName',\n",
    "            'ParameterValue': cf_bucket\n",
    "        }\n",
    "    ],\n",
    "    Capabilities=[\n",
    "        'CAPABILITY_IAM',\n",
    "    ]\n",
    ")\n",
    "\n",
    "print response"
   ]
  },
  {
   "cell_type": "code",
   "execution_count": null,
   "metadata": {
    "collapsed": false
   },
   "outputs": [],
   "source": [
    "# Wait for it...\n",
    "waiter = client.get_waiter('stack_create_complete')\n",
    "waiter.wait(\n",
    "    StackName=smssub_stack\n",
    ")\n",
    "\n",
    "print 'stack created'"
   ]
  },
  {
   "cell_type": "markdown",
   "metadata": {},
   "source": [
    "## Clean Up"
   ]
  },
  {
   "cell_type": "code",
   "execution_count": null,
   "metadata": {
    "collapsed": false
   },
   "outputs": [],
   "source": [
    "print 'destroy {}'.format(smssub_stack)\n",
    "response = client.delete_stack(\n",
    "    StackName=smssub_stack\n",
    ")\n",
    "\n",
    "print response\n",
    "\n",
    "print 'waiting for destroy of {}...'.format(smssub_stack)\n",
    "waiter.wait(\n",
    "    StackName=smssub_stack\n",
    ")\n",
    "\n",
    "print 'Stack {} destroyed'.format(smssub_stack)"
   ]
  },
  {
   "cell_type": "code",
   "execution_count": null,
   "metadata": {
    "collapsed": true
   },
   "outputs": [],
   "source": []
  }
 ],
 "metadata": {
  "kernelspec": {
   "display_name": "Python 2",
   "language": "python",
   "name": "python2"
  },
  "language_info": {
   "codemirror_mode": {
    "name": "ipython",
    "version": 2
   },
   "file_extension": ".py",
   "mimetype": "text/x-python",
   "name": "python",
   "nbconvert_exporter": "python",
   "pygments_lexer": "ipython2",
   "version": "2.7.12"
  }
 },
 "nbformat": 4,
 "nbformat_minor": 0
}
